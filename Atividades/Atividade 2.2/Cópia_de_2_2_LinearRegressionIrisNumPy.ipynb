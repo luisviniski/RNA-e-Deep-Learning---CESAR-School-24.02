{
  "cells": [
    {
      "cell_type": "markdown",
      "metadata": {
        "id": "5yQgzdjbf9RT"
      },
      "source": [
        "# Regressão Linear com NumPy"
      ]
    },
    {
      "cell_type": "markdown",
      "metadata": {
        "heading_collapsed": true,
        "id": "p5HfrYM3f9RU"
      },
      "source": [
        "## Objetivos deste experimento"
      ]
    },
    {
      "cell_type": "markdown",
      "metadata": {
        "hidden": true,
        "id": "IIYC2db7f9RW"
      },
      "source": [
        "Este exemplo utiliza regressão linear para estimar o comprimento das sépalas da íris a partir do seu comprimento das pétalas.\n",
        "Utiliza-se programação totalmente NumPy com:\n",
        "- o **cálculo do gradiente**,\n",
        "- a **função de perda** e\n",
        "- a atualização dos parâmetros são feitos de forma explícita.\n",
        "- A rede é criada com uma camada como uma classe"
      ]
    },
    {
      "cell_type": "markdown",
      "metadata": {
        "hidden": true,
        "id": "ImJOZIiNf9RW"
      },
      "source": [
        "![alt text](https://raw.githubusercontent.com/vcasadei/images/master/RegressaoLinear_Otimizacao.png)"
      ]
    },
    {
      "cell_type": "markdown",
      "metadata": {
        "heading_collapsed": true,
        "id": "EeTHWCuMf9RX"
      },
      "source": [
        "## Importação dos pacotes"
      ]
    },
    {
      "cell_type": "code",
      "execution_count": 1,
      "metadata": {
        "ExecuteTime": {
          "end_time": "2017-10-08T11:19:38.728936Z",
          "start_time": "2017-10-08T11:19:36.888541Z"
        },
        "hidden": true,
        "id": "5yPytaCLf9RY"
      },
      "outputs": [],
      "source": [
        "%matplotlib inline\n",
        "import matplotlib.pyplot as plt   # para plotting\n",
        "\n",
        "from sklearn.datasets import load_iris  # para carregar dataset\n",
        "\n",
        "import numpy as np  # processamento matricial\n",
        "\n",
        "np.random.seed(1234)"
      ]
    },
    {
      "cell_type": "markdown",
      "metadata": {
        "heading_collapsed": true,
        "id": "wDkSLSnmf9Rc"
      },
      "source": [
        "## Dataset"
      ]
    },
    {
      "cell_type": "markdown",
      "metadata": {
        "heading_collapsed": true,
        "hidden": true,
        "id": "ldcOnrBvf9Rd"
      },
      "source": [
        "### Leitura dos dados"
      ]
    },
    {
      "cell_type": "code",
      "execution_count": 2,
      "metadata": {
        "ExecuteTime": {
          "end_time": "2017-10-08T11:19:38.747769Z",
          "start_time": "2017-10-08T11:19:38.730907Z"
        },
        "colab": {
          "base_uri": "https://localhost:8080/"
        },
        "hidden": true,
        "id": "l3t1qaa0f9Re",
        "outputId": "b06b8ad9-5834-4a12-cf48-3d8ad62f97a4"
      },
      "outputs": [
        {
          "output_type": "stream",
          "name": "stdout",
          "text": [
            "x_train.shape: (50, 1) float64\n",
            "y_train.shape: (50, 1) float64\n",
            "x_train[:5]:\n",
            " [[7. ]\n",
            " [6.4]\n",
            " [6.9]\n",
            " [5.5]\n",
            " [6.5]]\n",
            "y_train[:5]:\n",
            " [[4.7]\n",
            " [4.5]\n",
            " [4.9]\n",
            " [4. ]\n",
            " [4.6]]\n"
          ]
        }
      ],
      "source": [
        "iris = load_iris()\n",
        "data = iris.data[iris.target==1,::2]  # comprimento das sépalas e pétalas, indices 0 e 2\n",
        "\n",
        "x_train = data[:,0:1]\n",
        "y_train = data[:,1:2]\n",
        "\n",
        "n_samples = x_train.shape[0]\n",
        "print('x_train.shape:',x_train.shape, x_train.dtype)\n",
        "print('y_train.shape:',y_train.shape, y_train.dtype)\n",
        "\n",
        "print('x_train[:5]:\\n', x_train[:5])\n",
        "print('y_train[:5]:\\n', y_train[:5])"
      ]
    },
    {
      "cell_type": "markdown",
      "metadata": {
        "hidden": true,
        "id": "aPQ-L6FVf9Rk"
      },
      "source": [
        "### Normalização dos dados"
      ]
    },
    {
      "cell_type": "code",
      "execution_count": 3,
      "metadata": {
        "ExecuteTime": {
          "end_time": "2017-10-08T11:19:38.756343Z",
          "start_time": "2017-10-08T11:19:38.750395Z"
        },
        "hidden": true,
        "id": "POM323GEf9Rl"
      },
      "outputs": [],
      "source": [
        "x_train -= x_train.min()\n",
        "x_train /= x_train.max()\n",
        "y_train -= y_train.min()\n",
        "y_train /= y_train.max()"
      ]
    },
    {
      "cell_type": "code",
      "execution_count": 4,
      "metadata": {
        "ExecuteTime": {
          "end_time": "2017-10-08T11:19:39.127199Z",
          "start_time": "2017-10-08T11:19:38.759104Z"
        },
        "colab": {
          "base_uri": "https://localhost:8080/",
          "height": 466
        },
        "hidden": true,
        "id": "dx5AO9Qxf9Rn",
        "outputId": "b8f65570-e013-4ed1-b5ce-762f6aa75f69"
      },
      "outputs": [
        {
          "output_type": "execute_result",
          "data": {
            "text/plain": [
              "Text(0, 0.5, 'Comprimento petalas')"
            ]
          },
          "metadata": {},
          "execution_count": 4
        },
        {
          "output_type": "display_data",
          "data": {
            "text/plain": [
              "<Figure size 640x480 with 1 Axes>"
            ],
            "image/png": "[encoded data removed]"
          },
          "metadata": {}
        }
      ],
      "source": [
        "plt.scatter(x_train,y_train)\n",
        "plt.xlabel('Comprimento sepalas')\n",
        "plt.ylabel('Comprimento petalas')"
      ]
    },
    {
      "cell_type": "markdown",
      "metadata": {
        "heading_collapsed": true,
        "id": "poW81teqf9Rr"
      },
      "source": [
        "## Modelo da rede"
      ]
    },
    {
      "cell_type": "markdown",
      "metadata": {
        "hidden": true,
        "id": "QXFLlJ0_f9Rt"
      },
      "source": [
        "### Reta de ajuste"
      ]
    },
    {
      "cell_type": "markdown",
      "metadata": {
        "hidden": true,
        "id": "s7JuPXysf9Rt"
      },
      "source": [
        "A equação da reta no plano necessita de dois parâmetros, aqui denominados $w_0$ (*bias*) e inclinação $w_1$. Veja figura:\n",
        "\n",
        "![alt text](https://raw.githubusercontent.com/vcasadei/images/master/linhareta.png)\n",
        "\n",
        "A reta de ajuste será dada por:\n",
        "\n",
        "$$ \\hat{y} = w_0 + w_1 x $$\n",
        "\n",
        "onde\n",
        "* $w_1$ é o coeficiente angular da reta e\n",
        "* $w_0$ é a interseção do eixo vertical quando x é igual a zero, também denominado de *bias*.\n",
        "* $x$ é a variável de entrada (comprimento das sépalas) e\n",
        "* $\\hat{y}$ é a predição (comprimento estimado das pétalas)."
      ]
    },
    {
      "cell_type": "markdown",
      "metadata": {
        "hidden": true,
        "id": "hwin_xPff9Ru"
      },
      "source": [
        "### Linear Regression Model"
      ]
    },
    {
      "cell_type": "markdown",
      "metadata": {
        "hidden": true,
        "id": "c7ilOLnkf9Rw"
      },
      "source": [
        "![alt text](https://raw.githubusercontent.com/vcasadei/images/master/RegressaoLinearNeuronio.png)"
      ]
    },
    {
      "cell_type": "markdown",
      "metadata": {
        "hidden": true,
        "id": "H0CzMB91f9Rx"
      },
      "source": [
        "### Formulação matricial do neurônio"
      ]
    },
    {
      "cell_type": "markdown",
      "metadata": {
        "hidden": true,
        "id": "-wWz_wpYf9Ry"
      },
      "source": [
        "* $\\mathbf{w} = [w_0 \\ w_1]$ é vetor linha de parâmetros e\n",
        "* $\\mathbf{x} = [1 \\ x_0] $ é vetor linha de uma amostra (com *bias*).\n",
        "\n",
        "$$ \\hat{y} = 1 w_0 + x_0 w_1 $$\n",
        "\n",
        "$$ [\\hat{y}] = [1 \\ x_0] \\begin{bmatrix} w_0 \\\\ w_1 \\end{bmatrix} $$\n",
        "\n",
        "$$ \\mathbf{\\hat{y}} = \\mathbf{x} \\mathbf{w^T} $$"
      ]
    },
    {
      "cell_type": "markdown",
      "metadata": {
        "hidden": true,
        "id": "rQ1lc-dYf9Rz"
      },
      "source": [
        "### Fazendo o predict de várias amostras"
      ]
    },
    {
      "cell_type": "markdown",
      "metadata": {
        "hidden": true,
        "id": "fh068Clrf9R0"
      },
      "source": [
        "$$ \\begin{matrix}\n",
        "\\begin{bmatrix}\n",
        "\\hat{y}_0\\\\\n",
        "\\hat{y}_1\\\\\n",
        "\\\\\n",
        "\\hat{y}_{M-1}\n",
        "\\end{bmatrix} &=& \\begin{bmatrix}\n",
        "1 & x_0 \\\\\n",
        "1 & x_1\\\\\n",
        "\\\\\n",
        "1 & x_{M-1} \\\\\n",
        "\\end{bmatrix}\n",
        "&\n",
        "\\begin{bmatrix}\n",
        "w_0\\\\\n",
        "w_1\n",
        "\\end{bmatrix} \\\\\n",
        "(M,1) & & (M,2) & (2,1) \\\\\n",
        "\\end{matrix} $$"
      ]
    },
    {
      "cell_type": "markdown",
      "metadata": {
        "hidden": true,
        "id": "jjSchAsZf9R2"
      },
      "source": [
        "### Preenchendo x com coluna de 1's para bias"
      ]
    },
    {
      "cell_type": "code",
      "execution_count": 5,
      "metadata": {
        "ExecuteTime": {
          "end_time": "2017-10-08T11:19:39.135089Z",
          "start_time": "2017-10-08T11:19:39.129385Z"
        },
        "hidden": true,
        "id": "plZEY5-tf9R2"
      },
      "outputs": [],
      "source": [
        "x_train_bias = np.hstack([np.ones(shape=(n_samples,1)), x_train])"
      ]
    },
    {
      "cell_type": "code",
      "execution_count": 6,
      "metadata": {
        "colab": {
          "base_uri": "https://localhost:8080/"
        },
        "id": "tXYx3JdMf9R6",
        "outputId": "315ed613-a0a5-4e6e-d7f4-a5d1aea0a408"
      },
      "outputs": [
        {
          "output_type": "execute_result",
          "data": {
            "text/plain": [
              "array([[1.        , 1.        ],\n",
              "       [1.        , 0.71428571],\n",
              "       [1.        , 0.95238095],\n",
              "       [1.        , 0.28571429],\n",
              "       [1.        , 0.76190476],\n",
              "       [1.        , 0.38095238],\n",
              "       [1.        , 0.66666667],\n",
              "       [1.        , 0.        ],\n",
              "       [1.        , 0.80952381],\n",
              "       [1.        , 0.14285714],\n",
              "       [1.        , 0.04761905],\n",
              "       [1.        , 0.47619048],\n",
              "       [1.        , 0.52380952],\n",
              "       [1.        , 0.57142857],\n",
              "       [1.        , 0.33333333],\n",
              "       [1.        , 0.85714286],\n",
              "       [1.        , 0.33333333],\n",
              "       [1.        , 0.42857143],\n",
              "       [1.        , 0.61904762],\n",
              "       [1.        , 0.33333333],\n",
              "       [1.        , 0.47619048],\n",
              "       [1.        , 0.57142857],\n",
              "       [1.        , 0.66666667],\n",
              "       [1.        , 0.57142857],\n",
              "       [1.        , 0.71428571],\n",
              "       [1.        , 0.80952381],\n",
              "       [1.        , 0.9047619 ],\n",
              "       [1.        , 0.85714286],\n",
              "       [1.        , 0.52380952],\n",
              "       [1.        , 0.38095238],\n",
              "       [1.        , 0.28571429],\n",
              "       [1.        , 0.28571429],\n",
              "       [1.        , 0.42857143],\n",
              "       [1.        , 0.52380952],\n",
              "       [1.        , 0.23809524],\n",
              "       [1.        , 0.52380952],\n",
              "       [1.        , 0.85714286],\n",
              "       [1.        , 0.66666667],\n",
              "       [1.        , 0.33333333],\n",
              "       [1.        , 0.28571429],\n",
              "       [1.        , 0.28571429],\n",
              "       [1.        , 0.57142857],\n",
              "       [1.        , 0.42857143],\n",
              "       [1.        , 0.04761905],\n",
              "       [1.        , 0.33333333],\n",
              "       [1.        , 0.38095238],\n",
              "       [1.        , 0.38095238],\n",
              "       [1.        , 0.61904762],\n",
              "       [1.        , 0.0952381 ],\n",
              "       [1.        , 0.38095238]])"
            ]
          },
          "metadata": {},
          "execution_count": 6
        }
      ],
      "source": [
        "x_train_bias"
      ]
    },
    {
      "cell_type": "markdown",
      "metadata": {
        "hidden": true,
        "id": "GOtS_8OSf9SC"
      },
      "source": [
        "### Classe com o modelo da rede"
      ]
    },
    {
      "cell_type": "code",
      "execution_count": 7,
      "metadata": {
        "ExecuteTime": {
          "end_time": "2017-10-08T11:19:39.143879Z",
          "start_time": "2017-10-08T11:19:39.137134Z"
        },
        "hidden": true,
        "id": "aKLVIQUtf9SD"
      },
      "outputs": [],
      "source": [
        "class Net():\n",
        "    def __init__(self, n_in, n_out):\n",
        "        self.w = np.random.uniform(-0.1,0.1,(n_out,n_in)) #inicialização dos parâmetros/ alterar o random por algum valor especifco\n",
        "        ##self.w = [0,0]\n",
        "        ##self.w = np.zeros(shape=) aonde será realizada as alterações do exercicio\n",
        "\n",
        "\n",
        "    def forward(self, x_bias):\n",
        "        return x_bias.dot(self.w.T)"
      ]
    },
    {
      "cell_type": "markdown",
      "metadata": {
        "hidden": true,
        "id": "0j0hN9l_f9SH"
      },
      "source": [
        "### Criando a rede, instanciando o objeto model"
      ]
    },
    {
      "cell_type": "code",
      "execution_count": 8,
      "metadata": {
        "ExecuteTime": {
          "end_time": "2017-10-08T11:19:39.151717Z",
          "start_time": "2017-10-08T11:19:39.146858Z"
        },
        "hidden": true,
        "id": "5o5Zkqn5f9SI"
      },
      "outputs": [],
      "source": [
        "model = Net(2,1) # duas entradas (1 + x0) e uma saída y_pred"
      ]
    },
    {
      "cell_type": "markdown",
      "metadata": {
        "hidden": true,
        "id": "F3yolUOGf9SL"
      },
      "source": [
        "### Testando o predict da rede (mesmo sem treiná-la)"
      ]
    },
    {
      "cell_type": "code",
      "execution_count": 9,
      "metadata": {
        "ExecuteTime": {
          "end_time": "2017-10-08T11:19:39.162189Z",
          "start_time": "2017-10-08T11:19:39.156018Z"
        },
        "colab": {
          "base_uri": "https://localhost:8080/"
        },
        "hidden": true,
        "id": "BzkEurfof9SN",
        "outputId": "02f98215-a05b-485b-c366-93fd607b5ec1"
      },
      "outputs": [
        {
          "output_type": "execute_result",
          "data": {
            "text/plain": [
              "array([[-0.09602795],\n",
              "       [ 0.0661236 ],\n",
              "       [-0.06857828],\n",
              "       [-0.05573871]])"
            ]
          },
          "metadata": {},
          "execution_count": 9
        }
      ],
      "source": [
        "xin = np.random.randn(4,2) # 4 amostras, 2 entradas (1 + x0)\n",
        "ypred = model.forward(xin)\n",
        "ypred"
      ]
    },
    {
      "cell_type": "markdown",
      "metadata": {
        "heading_collapsed": true,
        "id": "edoSiy--f9SS"
      },
      "source": [
        "## Treinamento via gradiente descendente"
      ]
    },
    {
      "cell_type": "markdown",
      "metadata": {
        "hidden": true,
        "id": "SnkXXFref9ST"
      },
      "source": [
        "Função de perda:\n",
        "$$ J(\\hat{y_i},y_i) = \\frac{1}{M} \\sum_{i=0}^{M-1} (\\hat{y_i} - y_i)^2 $$"
      ]
    },
    {
      "cell_type": "markdown",
      "metadata": {
        "ExecuteTime": {
          "end_time": "2017-10-05T14:05:06.244776",
          "start_time": "2017-10-05T14:05:06.240743"
        },
        "hidden": true,
        "id": "6W5QcPwUf9SU"
      },
      "source": [
        "Gradiente:\n",
        "$$  \\mathbf{\\nabla{J_w}} = \\frac{2}{M}\\mathbf{x^T}(\\mathbf{x w^T} - \\mathbf{y}) $$"
      ]
    },
    {
      "cell_type": "markdown",
      "metadata": {
        "ExecuteTime": {
          "end_time": "2017-10-05T14:06:17.929718",
          "start_time": "2017-10-05T14:06:17.925519"
        },
        "hidden": true,
        "id": "6OoQuuvAf9SU"
      },
      "source": [
        "Atualização dos parâmetros pelo gradiente descendente:\n",
        "$$ \\mathbf{w} = \\mathbf{w} − \\eta (\\mathbf{\\nabla J_w})^T $$"
      ]
    },
    {
      "cell_type": "markdown",
      "metadata": {
        "hidden": true,
        "id": "YM0fEnAdf9SW"
      },
      "source": [
        "### Laço de treinamento"
      ]
    },
    {
      "cell_type": "code",
      "execution_count": 10,
      "metadata": {
        "ExecuteTime": {
          "end_time": "2017-10-08T11:19:39.183784Z",
          "start_time": "2017-10-08T11:19:39.165347Z"
        },
        "colab": {
          "base_uri": "https://localhost:8080/"
        },
        "hidden": true,
        "id": "BiCGgqp6f9SX",
        "outputId": "686e05dc-db01-4afb-bbda-ec49c2065b84",
        "scrolled": false
      },
      "outputs": [
        {
          "output_type": "stream",
          "name": "stdout",
          "text": [
            "Epoch[1/100], loss: 0.469163\n",
            "Epoch[2/100], loss: 0.058070\n",
            "Epoch[3/100], loss: 0.030543\n",
            "Epoch[4/100], loss: 0.028105\n",
            "Epoch[5/100], loss: 0.027364\n",
            "Epoch[6/100], loss: 0.026787\n",
            "Epoch[7/100], loss: 0.026269\n",
            "Epoch[8/100], loss: 0.025799\n",
            "Epoch[9/100], loss: 0.025373\n",
            "Epoch[10/100], loss: 0.024986\n",
            "Epoch[11/100], loss: 0.024634\n",
            "Epoch[12/100], loss: 0.024315\n",
            "Epoch[13/100], loss: 0.024025\n",
            "Epoch[14/100], loss: 0.023762\n",
            "Epoch[15/100], loss: 0.023524\n",
            "Epoch[16/100], loss: 0.023307\n",
            "Epoch[17/100], loss: 0.023110\n",
            "Epoch[18/100], loss: 0.022931\n",
            "Epoch[19/100], loss: 0.022769\n",
            "Epoch[20/100], loss: 0.022622\n",
            "Epoch[21/100], loss: 0.022488\n",
            "Epoch[22/100], loss: 0.022366\n",
            "Epoch[23/100], loss: 0.022256\n",
            "Epoch[24/100], loss: 0.022156\n",
            "Epoch[25/100], loss: 0.022065\n",
            "Epoch[26/100], loss: 0.021983\n",
            "Epoch[27/100], loss: 0.021908\n",
            "Epoch[28/100], loss: 0.021840\n",
            "Epoch[29/100], loss: 0.021778\n",
            "Epoch[30/100], loss: 0.021722\n",
            "Epoch[31/100], loss: 0.021671\n",
            "Epoch[32/100], loss: 0.021625\n",
            "Epoch[33/100], loss: 0.021583\n",
            "Epoch[34/100], loss: 0.021545\n",
            "Epoch[35/100], loss: 0.021510\n",
            "Epoch[36/100], loss: 0.021479\n",
            "Epoch[37/100], loss: 0.021450\n",
            "Epoch[38/100], loss: 0.021425\n",
            "Epoch[39/100], loss: 0.021401\n",
            "Epoch[40/100], loss: 0.021380\n",
            "Epoch[41/100], loss: 0.021360\n",
            "Epoch[42/100], loss: 0.021343\n",
            "Epoch[43/100], loss: 0.021327\n",
            "Epoch[44/100], loss: 0.021312\n",
            "Epoch[45/100], loss: 0.021299\n",
            "Epoch[46/100], loss: 0.021287\n",
            "Epoch[47/100], loss: 0.021276\n",
            "Epoch[48/100], loss: 0.021267\n",
            "Epoch[49/100], loss: 0.021258\n",
            "Epoch[50/100], loss: 0.021249\n",
            "Epoch[51/100], loss: 0.021242\n",
            "Epoch[52/100], loss: 0.021235\n",
            "Epoch[53/100], loss: 0.021229\n",
            "Epoch[54/100], loss: 0.021224\n",
            "Epoch[55/100], loss: 0.021219\n",
            "Epoch[56/100], loss: 0.021214\n",
            "Epoch[57/100], loss: 0.021210\n",
            "Epoch[58/100], loss: 0.021206\n",
            "Epoch[59/100], loss: 0.021203\n",
            "Epoch[60/100], loss: 0.021200\n",
            "Epoch[61/100], loss: 0.021197\n",
            "Epoch[62/100], loss: 0.021195\n",
            "Epoch[63/100], loss: 0.021192\n",
            "Epoch[64/100], loss: 0.021190\n",
            "Epoch[65/100], loss: 0.021188\n",
            "Epoch[66/100], loss: 0.021186\n",
            "Epoch[67/100], loss: 0.021185\n",
            "Epoch[68/100], loss: 0.021183\n",
            "Epoch[69/100], loss: 0.021182\n",
            "Epoch[70/100], loss: 0.021181\n",
            "Epoch[71/100], loss: 0.021180\n",
            "Epoch[72/100], loss: 0.021179\n",
            "Epoch[73/100], loss: 0.021178\n",
            "Epoch[74/100], loss: 0.021177\n",
            "Epoch[75/100], loss: 0.021177\n",
            "Epoch[76/100], loss: 0.021176\n",
            "Epoch[77/100], loss: 0.021175\n",
            "Epoch[78/100], loss: 0.021175\n",
            "Epoch[79/100], loss: 0.021174\n",
            "Epoch[80/100], loss: 0.021174\n",
            "Epoch[81/100], loss: 0.021173\n",
            "Epoch[82/100], loss: 0.021173\n",
            "Epoch[83/100], loss: 0.021173\n",
            "Epoch[84/100], loss: 0.021172\n",
            "Epoch[85/100], loss: 0.021172\n",
            "Epoch[86/100], loss: 0.021172\n",
            "Epoch[87/100], loss: 0.021172\n",
            "Epoch[88/100], loss: 0.021171\n",
            "Epoch[89/100], loss: 0.021171\n",
            "Epoch[90/100], loss: 0.021171\n",
            "Epoch[91/100], loss: 0.021171\n",
            "Epoch[92/100], loss: 0.021171\n",
            "Epoch[93/100], loss: 0.021171\n",
            "Epoch[94/100], loss: 0.021171\n",
            "Epoch[95/100], loss: 0.021170\n",
            "Epoch[96/100], loss: 0.021170\n",
            "Epoch[97/100], loss: 0.021170\n",
            "Epoch[98/100], loss: 0.021170\n",
            "Epoch[99/100], loss: 0.021170\n",
            "Epoch[100/100], loss: 0.021170\n"
          ]
        }
      ],
      "source": [
        "num_epochs = 100\n",
        "learning_rate = 0.5\n",
        "for epoch in range(num_epochs):\n",
        "\n",
        "    # forward - predict\n",
        "    y_pred = model.forward(x_train_bias)\n",
        "\n",
        "    #loss cálculo da função de perda\n",
        "    loss = np.square(y_pred - y_train).mean()\n",
        "\n",
        "    # cálculo do gradiente pelas derivadas parciais\n",
        "    w_grad = (2.0/n_samples) * (x_train_bias.T).dot(x_train_bias.dot(model.w.T) - y_train)\n",
        "\n",
        "    # gradiente descendente atualização do peso\n",
        "    model.w = model.w - learning_rate * w_grad.T\n",
        "\n",
        "\n",
        "    # verbose\n",
        "    if (epoch+1) % 1 == 0:\n",
        "        print('Epoch[{}/{}], loss: {:.6f}'\n",
        "              .format(epoch+1, num_epochs, loss))"
      ]
    },
    {
      "cell_type": "markdown",
      "metadata": {
        "heading_collapsed": true,
        "id": "1QGlDZABf9Sd"
      },
      "source": [
        "## Avaliação"
      ]
    },
    {
      "cell_type": "markdown",
      "source": [
        "o que foi alterado na rede foi o model.w"
      ],
      "metadata": {
        "id": "PEURueyjXSJN"
      }
    },
    {
      "cell_type": "markdown",
      "metadata": {
        "hidden": true,
        "id": "6TIimlCmf9Si"
      },
      "source": [
        "### Predict"
      ]
    },
    {
      "cell_type": "code",
      "execution_count": 11,
      "metadata": {
        "ExecuteTime": {
          "end_time": "2017-10-08T11:19:39.408412Z",
          "start_time": "2017-10-08T11:19:39.186021Z"
        },
        "colab": {
          "base_uri": "https://localhost:8080/",
          "height": 447
        },
        "hidden": true,
        "id": "ToXwbrlsf9Sk",
        "outputId": "5d98ca62-4618-41ee-daa1-73fd5dc131d0"
      },
      "outputs": [
        {
          "output_type": "execute_result",
          "data": {
            "text/plain": [
              "[<matplotlib.lines.Line2D at 0x79efc6ddf890>]"
            ]
          },
          "metadata": {},
          "execution_count": 11
        },
        {
          "output_type": "display_data",
          "data": {
            "text/plain": [
              "<Figure size 640x480 with 1 Axes>"
            ],
            "image/png": "[encoded data removed]"
          },
          "metadata": {}
        }
      ],
      "source": [
        "y_pred = model.forward(x_train_bias)\n",
        "plt.plot(x_train, y_train, 'ro', label='Original data')\n",
        "plt.plot(x_train, y_pred, 'kx-', label='Fitting Line')"
      ]
    },
    {
      "cell_type": "markdown",
      "metadata": {
        "hidden": true,
        "id": "kQ1hGdItf9So"
      },
      "source": [
        "### Parâmetros treinados"
      ]
    },
    {
      "cell_type": "code",
      "execution_count": 12,
      "metadata": {
        "ExecuteTime": {
          "end_time": "2017-10-08T11:19:39.417569Z",
          "start_time": "2017-10-08T11:19:39.411060Z"
        },
        "colab": {
          "base_uri": "https://localhost:8080/"
        },
        "hidden": true,
        "id": "IcEOxTg9f9Sp",
        "outputId": "0a52c9b8-d21d-41de-99d9-ac5710a72dbb"
      },
      "outputs": [
        {
          "output_type": "stream",
          "name": "stdout",
          "text": [
            "[[0.26295353 0.68335641]]\n"
          ]
        }
      ],
      "source": [
        "print(model.w)"
      ]
    },
    {
      "cell_type": "markdown",
      "metadata": {
        "hidden": true,
        "id": "73n0qSOMf9Sr"
      },
      "source": [
        "### Avaliação do modelo"
      ]
    },
    {
      "cell_type": "code",
      "execution_count": 13,
      "metadata": {
        "colab": {
          "base_uri": "https://localhost:8080/"
        },
        "hidden": true,
        "id": "dI2TE8W6f9Ss",
        "outputId": "eb40f4ed-b15b-43d7-ab9b-79ab4b278fad"
      },
      "outputs": [
        {
          "output_type": "execute_result",
          "data": {
            "text/plain": [
              "np.float64(0.02117000379151052)"
            ]
          },
          "metadata": {},
          "execution_count": 13
        }
      ],
      "source": [
        "loss = np.square(y_pred - y_train).mean()\n",
        "loss"
      ]
    },
    {
      "cell_type": "markdown",
      "metadata": {
        "hidden": true,
        "id": "cv6q3ElSf9Sv"
      },
      "source": [
        "### Valor ótimo, solução analítica"
      ]
    },
    {
      "cell_type": "markdown",
      "metadata": {
        "hidden": true,
        "id": "qYgHOaNmf9Sv"
      },
      "source": [
        "$$  \\mathbf{w} =(\\mathbf{x^T} \\mathbf{x})^{−1}\\mathbf{x^T} \\mathbf{y} $$"
      ]
    },
    {
      "cell_type": "code",
      "execution_count": 14,
      "metadata": {
        "ExecuteTime": {
          "end_time": "2017-10-08T11:19:39.432480Z",
          "start_time": "2017-10-08T11:19:39.420006Z"
        },
        "colab": {
          "base_uri": "https://localhost:8080/"
        },
        "hidden": true,
        "id": "OmrggYvmf9Sw",
        "outputId": "9e80f29a-aafb-4095-8c9b-846edfae0ff4"
      },
      "outputs": [
        {
          "output_type": "stream",
          "name": "stdout",
          "text": [
            "[[0.26134159 0.68646976]]\n"
          ]
        }
      ],
      "source": [
        "x = x_train_bias\n",
        "y = y_train\n",
        "w_opt = (np.linalg.inv((x.T).dot(x)).dot(x.T)).dot(y)\n",
        "print(w_opt.T)"
      ]
    },
    {
      "cell_type": "markdown",
      "metadata": {
        "heading_collapsed": true,
        "id": "2eMOcW8Ff9Sz"
      },
      "source": [
        "# Exercícios"
      ]
    },
    {
      "cell_type": "markdown",
      "metadata": {
        "hidden": true,
        "id": "tCKeOB1-f9S1"
      },
      "source": [
        "## Questões"
      ]
    },
    {
      "cell_type": "markdown",
      "metadata": {
        "hidden": true,
        "id": "c-KyP13vf9S2"
      },
      "source": [
        "1. Quantos parâmetros são treinados nesse modelo?\n",
        "R; 2 parametros (w0 w w1)\n",
        "\n",
        "2. Qual é o número de atributos de entrada para a rede?\n",
        "R: 1,x com min = 2\n",
        "\n",
        "3. Qual é o número de saídas da rede?\n",
        "R: 1,y\n",
        "\n",
        "4. Suponha que eu tenha agora 5 mil amostras para fazer a predição. Qual é o shape da matriz de entrada? R: [5000, 2]\n",
        "   Qual é o shape do matriz de saída? R: [5000, 1]\n"
      ]
    },
    {
      "cell_type": "markdown",
      "metadata": {
        "hidden": true,
        "id": "oaj0t2gpf9S3"
      },
      "source": [
        "## Atividades"
      ]
    },
    {
      "cell_type": "markdown",
      "metadata": {
        "hidden": true,
        "id": "pR_fNYurf9S3"
      },
      "source": [
        "1. Modifique o laço do treinamento via gradiente descendente para guardar em uma lista, o valor da perda no final\n",
        "   de cada época. Após o treinamento, plote o valor da perda em função da época.\n",
        "2. Calcule o valor da perda (MSE) da rede com os parâmetros inicializados, sem serem treinados.\n",
        "3. Coloque os valores dos pesos da solução ótima analítica no modelo da rede e calcule o valor da perda (MSE) e\n",
        "   compare com o valor da perda obtida pelo método da otimização via gradiente descendente."
      ]
    },
    {
      "cell_type": "markdown",
      "metadata": {
        "collapsed": true,
        "id": "tgmMhSm2f9S4"
      },
      "source": [
        "# Aprendizados"
      ]
    },
    {
      "cell_type": "code",
      "source": [
        "#1.\n",
        "num_epochs = 100\n",
        "learning_rate = 0.5\n",
        "loses = []\n",
        "for epoch in range(num_epochs):\n",
        "\n",
        "    # forward - predict\n",
        "    y_pred = model.forward(x_train_bias)\n",
        "\n",
        "    #loss cálculo da função de perda\n",
        "    loss = np.square(y_pred - y_train).mean()\n",
        "\n",
        "    # cálculo do gradiente pelas derivadas parciais\n",
        "    w_grad = (2.0/n_samples) * (x_train_bias.T).dot(x_train_bias.dot(model.w.T) - y_train)\n",
        "\n",
        "    # gradiente descendente atualização do peso\n",
        "    model.w = model.w - learning_rate * w_grad.T\n",
        "\n",
        "    loses.append(loss)\n",
        "\n",
        "    # verbose\n",
        "    if (epoch+1) % 1 == 0:\n",
        "        print('Epoch[{}/{}], loss: {:.6f}'\n",
        "              .format(epoch+1, num_epochs, loss))\n",
        "\n",
        "print(loses)"
      ],
      "metadata": {
        "colab": {
          "base_uri": "https://localhost:8080/"
        },
        "id": "hksCwFuWaA3W",
        "outputId": "9bcfe6a1-69e2-4011-ad87-b1b01f31f5f3"
      },
      "execution_count": 16,
      "outputs": [
        {
          "output_type": "stream",
          "name": "stdout",
          "text": [
            "Epoch[1/100], loss: 0.021170\n",
            "Epoch[2/100], loss: 0.021170\n",
            "Epoch[3/100], loss: 0.021170\n",
            "Epoch[4/100], loss: 0.021170\n",
            "Epoch[5/100], loss: 0.021170\n",
            "Epoch[6/100], loss: 0.021170\n",
            "Epoch[7/100], loss: 0.021170\n",
            "Epoch[8/100], loss: 0.021170\n",
            "Epoch[9/100], loss: 0.021170\n",
            "Epoch[10/100], loss: 0.021170\n",
            "Epoch[11/100], loss: 0.021170\n",
            "Epoch[12/100], loss: 0.021170\n",
            "Epoch[13/100], loss: 0.021170\n",
            "Epoch[14/100], loss: 0.021170\n",
            "Epoch[15/100], loss: 0.021170\n",
            "Epoch[16/100], loss: 0.021170\n",
            "Epoch[17/100], loss: 0.021170\n",
            "Epoch[18/100], loss: 0.021170\n",
            "Epoch[19/100], loss: 0.021170\n",
            "Epoch[20/100], loss: 0.021170\n",
            "Epoch[21/100], loss: 0.021170\n",
            "Epoch[22/100], loss: 0.021170\n",
            "Epoch[23/100], loss: 0.021169\n",
            "Epoch[24/100], loss: 0.021169\n",
            "Epoch[25/100], loss: 0.021169\n",
            "Epoch[26/100], loss: 0.021169\n",
            "Epoch[27/100], loss: 0.021169\n",
            "Epoch[28/100], loss: 0.021169\n",
            "Epoch[29/100], loss: 0.021169\n",
            "Epoch[30/100], loss: 0.021169\n",
            "Epoch[31/100], loss: 0.021169\n",
            "Epoch[32/100], loss: 0.021169\n",
            "Epoch[33/100], loss: 0.021169\n",
            "Epoch[34/100], loss: 0.021169\n",
            "Epoch[35/100], loss: 0.021169\n",
            "Epoch[36/100], loss: 0.021169\n",
            "Epoch[37/100], loss: 0.021169\n",
            "Epoch[38/100], loss: 0.021169\n",
            "Epoch[39/100], loss: 0.021169\n",
            "Epoch[40/100], loss: 0.021169\n",
            "Epoch[41/100], loss: 0.021169\n",
            "Epoch[42/100], loss: 0.021169\n",
            "Epoch[43/100], loss: 0.021169\n",
            "Epoch[44/100], loss: 0.021169\n",
            "Epoch[45/100], loss: 0.021169\n",
            "Epoch[46/100], loss: 0.021169\n",
            "Epoch[47/100], loss: 0.021169\n",
            "Epoch[48/100], loss: 0.021169\n",
            "Epoch[49/100], loss: 0.021169\n",
            "Epoch[50/100], loss: 0.021169\n",
            "Epoch[51/100], loss: 0.021169\n",
            "Epoch[52/100], loss: 0.021169\n",
            "Epoch[53/100], loss: 0.021169\n",
            "Epoch[54/100], loss: 0.021169\n",
            "Epoch[55/100], loss: 0.021169\n",
            "Epoch[56/100], loss: 0.021169\n",
            "Epoch[57/100], loss: 0.021169\n",
            "Epoch[58/100], loss: 0.021169\n",
            "Epoch[59/100], loss: 0.021169\n",
            "Epoch[60/100], loss: 0.021169\n",
            "Epoch[61/100], loss: 0.021169\n",
            "Epoch[62/100], loss: 0.021169\n",
            "Epoch[63/100], loss: 0.021169\n",
            "Epoch[64/100], loss: 0.021169\n",
            "Epoch[65/100], loss: 0.021169\n",
            "Epoch[66/100], loss: 0.021169\n",
            "Epoch[67/100], loss: 0.021169\n",
            "Epoch[68/100], loss: 0.021169\n",
            "Epoch[69/100], loss: 0.021169\n",
            "Epoch[70/100], loss: 0.021169\n",
            "Epoch[71/100], loss: 0.021169\n",
            "Epoch[72/100], loss: 0.021169\n",
            "Epoch[73/100], loss: 0.021169\n",
            "Epoch[74/100], loss: 0.021169\n",
            "Epoch[75/100], loss: 0.021169\n",
            "Epoch[76/100], loss: 0.021169\n",
            "Epoch[77/100], loss: 0.021169\n",
            "Epoch[78/100], loss: 0.021169\n",
            "Epoch[79/100], loss: 0.021169\n",
            "Epoch[80/100], loss: 0.021169\n",
            "Epoch[81/100], loss: 0.021169\n",
            "Epoch[82/100], loss: 0.021169\n",
            "Epoch[83/100], loss: 0.021169\n",
            "Epoch[84/100], loss: 0.021169\n",
            "Epoch[85/100], loss: 0.021169\n",
            "Epoch[86/100], loss: 0.021169\n",
            "Epoch[87/100], loss: 0.021169\n",
            "Epoch[88/100], loss: 0.021169\n",
            "Epoch[89/100], loss: 0.021169\n",
            "Epoch[90/100], loss: 0.021169\n",
            "Epoch[91/100], loss: 0.021169\n",
            "Epoch[92/100], loss: 0.021169\n",
            "Epoch[93/100], loss: 0.021169\n",
            "Epoch[94/100], loss: 0.021169\n",
            "Epoch[95/100], loss: 0.021169\n",
            "Epoch[96/100], loss: 0.021169\n",
            "Epoch[97/100], loss: 0.021169\n",
            "Epoch[98/100], loss: 0.021169\n",
            "Epoch[99/100], loss: 0.021169\n",
            "Epoch[100/100], loss: 0.021169\n",
            "[np.float64(0.02117000379151052), np.float64(0.02116995040474736), np.float64(0.02116990193480691), np.float64(0.021169857928858827), np.float64(0.021169817975777626), np.float64(0.021169781702301722), np.float64(0.021169748769546245), np.float64(0.021169718869836967), np.float64(0.021169691723835923), np.float64(0.021169667077931654), np.float64(0.021169644701869838), np.float64(0.021169624386602165), np.float64(0.021169605942333282), np.float64(0.02116958919674764), np.float64(0.02116957399339963), np.float64(0.02116956019025202), np.float64(0.021169547658348917), np.float64(0.02116953628061104), np.float64(0.021169525950741893), np.float64(0.021169516572234696), np.float64(0.02116950805747077), np.float64(0.021169500326900938), np.float64(0.02116949330830237), np.float64(0.021169486936103817), np.float64(0.021169481150773037), np.float64(0.021169475898260574), np.float64(0.021169471129494858), np.float64(0.02116946679992369), np.float64(0.021169462869098064), np.float64(0.02116945930029425), np.float64(0.0211694560601707), np.float64(0.021169453118456572), np.float64(0.02116945044766891), np.float64(0.021169448022855867), np.float64(0.02116944582136366), np.float64(0.021169443822624825), np.float64(0.02116944200796617), np.float64(0.021169440360434232), np.float64(0.021169438864636958), np.float64(0.021169437506599862), np.float64(0.021169436273635482), np.float64(0.02116943515422486), np.float64(0.021169434137909896), np.float64(0.021169433215195665), np.float64(0.02116943237746172), np.float64(0.02116943161688153), np.float64(0.02116943092634938), np.float64(0.02116943029941398), np.float64(0.021169429730218164), np.float64(0.021169429213444238), np.float64(0.02116942874426424), np.float64(0.021169428318294867), np.float64(0.021169427931556475), np.float64(0.021169427580435985), np.float64(0.021169427261653048), np.float64(0.021169426972229427), np.float64(0.021169426709461193), np.float64(0.021169426470893433), np.float64(0.021169426254297317), np.float64(0.02116942605764931), np.float64(0.021169425879112226), np.float64(0.021169425717018072), np.float64(0.021169425569852494), np.float64(0.021169425436240594), np.float64(0.02116942531493411), np.float64(0.021169425204799724), np.float64(0.02116942510480851), np.float64(0.021169425014026313), np.float64(0.02116942493160498), np.float64(0.02116942485677451), np.float64(0.021169424788835777), np.float64(0.02116942472715409), np.float64(0.02116942467115316), np.float64(0.021169424620309817), np.float64(0.021169424574149054), np.float64(0.02116942453223961), np.float64(0.021169424494189952), np.float64(0.0211694244596446), np.float64(0.021169424428280802), np.float64(0.02116942439980556), np.float64(0.021169424373952826), np.float64(0.021169424350481095), np.float64(0.02116942432917106), np.float64(0.021169424309823638), np.float64(0.02116942429225808), np.float64(0.02116942427631028), np.float64(0.021169424261831243), np.float64(0.02116942424868569), np.float64(0.02116942423675083), np.float64(0.021169424225915147), np.float64(0.0211694242160774), np.float64(0.021169424207145696), np.float64(0.021169424199036592), np.float64(0.021169424191674314), np.float64(0.021169424184990092), np.float64(0.021169424178921474), np.float64(0.02116942417341177), np.float64(0.021169424168409487), np.float64(0.021169424163867915), np.float64(0.021169424159744613)]\n"
          ]
        }
      ]
    },
    {
      "cell_type": "code",
      "source": [
        "plt.figure(figsize=(8, 6))\n",
        "plt.plot(range(1, num_epochs + 1), loses) # <<<< MODIFICAÇÃO 1: Plota a lista de perdas\n",
        "plt.xlabel('Época')\n",
        "plt.ylabel('Perda (MSE)')\n",
        "plt.title('Evolução da Perda Durante o Treinamento')\n",
        "plt.grid(True)\n",
        "plt.show()"
      ],
      "metadata": {
        "colab": {
          "base_uri": "https://localhost:8080/",
          "height": 566
        },
        "id": "Y3s6w5B_PVBl",
        "outputId": "ca612117-cdb5-4480-b511-27d9f97ca9cd"
      },
      "execution_count": 18,
      "outputs": [
        {
          "output_type": "display_data",
          "data": {
            "text/plain": [
              "<Figure size 800x600 with 1 Axes>"
            ],
            "image/png": "[encoded data removed]"
          },
          "metadata": {}
        }
      ]
    },
    {
      "cell_type": "code",
      "source": [
        "y_pred_final = model.forward(x_train_bias)\n",
        "\n",
        "plt.figure(figsize=(8, 6))\n",
        "plt.scatter(x_train, y_train, color='blue', label='Dados Originais (normalizados)')\n",
        "plt.plot(x_train, y_pred_final, color='red', label='Linha de Regressão Aprendida')\n",
        "plt.xlabel('Comprimento sépalas (normalizado)')\n",
        "plt.ylabel('Comprimento pétalas (normalizado)')\n",
        "plt.title('Regressão Linear: Ajuste do Modelo aos Dados')\n",
        "plt.legend()\n",
        "plt.grid(True)\n",
        "plt.show()"
      ],
      "metadata": {
        "colab": {
          "base_uri": "https://localhost:8080/",
          "height": 565
        },
        "id": "0W_IqwUAPzEf",
        "outputId": "b1c35673-7c69-47c5-99c6-6bdbc4f4b24a"
      },
      "execution_count": 19,
      "outputs": [
        {
          "output_type": "display_data",
          "data": {
            "text/plain": [
              "<Figure size 800x600 with 1 Axes>"
            ],
            "image/png": "[encoded data removed]"
          },
          "metadata": {}
        }
      ]
    },
    {
      "cell_type": "code",
      "source": [
        "#2\n",
        "model = Net(2,1)\n",
        "y_pred = model.forward(x_train_bias)\n",
        "print(ypred)\n",
        "loss = np.square(y_pred - y_train).mean()\n",
        "print(loss)"
      ],
      "metadata": {
        "colab": {
          "base_uri": "https://localhost:8080/"
        },
        "id": "Sp5MERGKaKYq",
        "outputId": "696b2353-79f7-465e-9614-2be86c022f31"
      },
      "execution_count": 21,
      "outputs": [
        {
          "output_type": "stream",
          "name": "stdout",
          "text": [
            "[[-0.09602795]\n",
            " [ 0.0661236 ]\n",
            " [-0.06857828]\n",
            " [-0.05573871]]\n",
            "0.4323749322844236\n"
          ]
        }
      ]
    },
    {
      "cell_type": "code",
      "source": [
        "#3\n",
        "model = Net(2,1)\n",
        "num_epochs = 100\n",
        "learning_rate = 0.5\n",
        "for epoch in range(num_epochs):\n",
        "\n",
        "    # forward - predict\n",
        "    y_pred = model.forward(x_train_bias)\n",
        "\n",
        "    #loss cálculo da função de perda\n",
        "    loss = np.square(y_pred - y_train).mean()\n",
        "\n",
        "    # cálculo do gradiente pelas derivadas parciais\n",
        "    w_grad = (2.0/n_samples) * (x_train_bias.T).dot(x_train_bias.dot(model.w.T) - y_train)\n",
        "\n",
        "    # gradiente descendente atualização do peso\n",
        "    model.w = model.w - learning_rate * w_grad.T\n",
        "\n",
        "\n",
        "    # verbose\n",
        "    if (epoch+1) % 1 == 0:\n",
        "        print('Epoch[{}/{}], loss: {:.6f}'\n",
        "              .format(epoch+1, num_epochs, loss))\n",
        "print(f\"Valores Gradiente:\\n w: (model.w) | perda: (loss)\")\n",
        "\n",
        "#solução otima\n",
        "x = x_train_bias\n",
        "y = y_train\n",
        "w_opt = (np.linalg.inv((x.T).dot(x)).dot(x.T)).dot(y)\n",
        "\n",
        "\n",
        "model.w = w_opt\n",
        "#foward - predict\n",
        "y_pred = model.forward(x_train_bias)\n",
        "\n",
        "# loss calculo de funcao perda\n",
        "loss = np.square(y_pred - y_train).mean()\n",
        "\n",
        "print(f)"
      ],
      "metadata": {
        "id": "aCHGucRvbdJy",
        "colab": {
          "base_uri": "https://localhost:8080/",
          "height": 1000
        },
        "outputId": "c32d5b1a-5211-4688-c5bb-f4b7003800ed"
      },
      "execution_count": 23,
      "outputs": [
        {
          "output_type": "stream",
          "name": "stdout",
          "text": [
            "Epoch[1/100], loss: 0.300936\n",
            "Epoch[2/100], loss: 0.047347\n",
            "Epoch[3/100], loss: 0.030073\n",
            "Epoch[4/100], loss: 0.028283\n",
            "Epoch[5/100], loss: 0.027565\n",
            "Epoch[6/100], loss: 0.026972\n",
            "Epoch[7/100], loss: 0.026437\n",
            "Epoch[8/100], loss: 0.025952\n",
            "Epoch[9/100], loss: 0.025511\n",
            "Epoch[10/100], loss: 0.025112\n",
            "Epoch[11/100], loss: 0.024748\n",
            "Epoch[12/100], loss: 0.024419\n",
            "Epoch[13/100], loss: 0.024120\n",
            "Epoch[14/100], loss: 0.023848\n",
            "Epoch[15/100], loss: 0.023601\n",
            "Epoch[16/100], loss: 0.023377\n",
            "Epoch[17/100], loss: 0.023174\n",
            "Epoch[18/100], loss: 0.022989\n",
            "Epoch[19/100], loss: 0.022822\n",
            "Epoch[20/100], loss: 0.022670\n",
            "Epoch[21/100], loss: 0.022531\n",
            "Epoch[22/100], loss: 0.022406\n",
            "Epoch[23/100], loss: 0.022292\n",
            "Epoch[24/100], loss: 0.022189\n",
            "Epoch[25/100], loss: 0.022095\n",
            "Epoch[26/100], loss: 0.022010\n",
            "Epoch[27/100], loss: 0.021932\n",
            "Epoch[28/100], loss: 0.021862\n",
            "Epoch[29/100], loss: 0.021798\n",
            "Epoch[30/100], loss: 0.021740\n",
            "Epoch[31/100], loss: 0.021688\n",
            "Epoch[32/100], loss: 0.021640\n",
            "Epoch[33/100], loss: 0.021597\n",
            "Epoch[34/100], loss: 0.021557\n",
            "Epoch[35/100], loss: 0.021522\n",
            "Epoch[36/100], loss: 0.021489\n",
            "Epoch[37/100], loss: 0.021460\n",
            "Epoch[38/100], loss: 0.021433\n",
            "Epoch[39/100], loss: 0.021409\n",
            "Epoch[40/100], loss: 0.021387\n",
            "Epoch[41/100], loss: 0.021367\n",
            "Epoch[42/100], loss: 0.021348\n",
            "Epoch[43/100], loss: 0.021332\n",
            "Epoch[44/100], loss: 0.021317\n",
            "Epoch[45/100], loss: 0.021303\n",
            "Epoch[46/100], loss: 0.021291\n",
            "Epoch[47/100], loss: 0.021280\n",
            "Epoch[48/100], loss: 0.021270\n",
            "Epoch[49/100], loss: 0.021260\n",
            "Epoch[50/100], loss: 0.021252\n",
            "Epoch[51/100], loss: 0.021244\n",
            "Epoch[52/100], loss: 0.021238\n",
            "Epoch[53/100], loss: 0.021231\n",
            "Epoch[54/100], loss: 0.021226\n",
            "Epoch[55/100], loss: 0.021220\n",
            "Epoch[56/100], loss: 0.021216\n",
            "Epoch[57/100], loss: 0.021211\n",
            "Epoch[58/100], loss: 0.021208\n",
            "Epoch[59/100], loss: 0.021204\n",
            "Epoch[60/100], loss: 0.021201\n",
            "Epoch[61/100], loss: 0.021198\n",
            "Epoch[62/100], loss: 0.021195\n",
            "Epoch[63/100], loss: 0.021193\n",
            "Epoch[64/100], loss: 0.021191\n",
            "Epoch[65/100], loss: 0.021189\n",
            "Epoch[66/100], loss: 0.021187\n",
            "Epoch[67/100], loss: 0.021185\n",
            "Epoch[68/100], loss: 0.021184\n",
            "Epoch[69/100], loss: 0.021183\n",
            "Epoch[70/100], loss: 0.021181\n",
            "Epoch[71/100], loss: 0.021180\n",
            "Epoch[72/100], loss: 0.021179\n",
            "Epoch[73/100], loss: 0.021178\n",
            "Epoch[74/100], loss: 0.021178\n",
            "Epoch[75/100], loss: 0.021177\n",
            "Epoch[76/100], loss: 0.021176\n",
            "Epoch[77/100], loss: 0.021176\n",
            "Epoch[78/100], loss: 0.021175\n",
            "Epoch[79/100], loss: 0.021174\n",
            "Epoch[80/100], loss: 0.021174\n",
            "Epoch[81/100], loss: 0.021174\n",
            "Epoch[82/100], loss: 0.021173\n",
            "Epoch[83/100], loss: 0.021173\n",
            "Epoch[84/100], loss: 0.021173\n",
            "Epoch[85/100], loss: 0.021172\n",
            "Epoch[86/100], loss: 0.021172\n",
            "Epoch[87/100], loss: 0.021172\n",
            "Epoch[88/100], loss: 0.021172\n",
            "Epoch[89/100], loss: 0.021171\n",
            "Epoch[90/100], loss: 0.021171\n",
            "Epoch[91/100], loss: 0.021171\n",
            "Epoch[92/100], loss: 0.021171\n",
            "Epoch[93/100], loss: 0.021171\n",
            "Epoch[94/100], loss: 0.021171\n",
            "Epoch[95/100], loss: 0.021170\n",
            "Epoch[96/100], loss: 0.021170\n",
            "Epoch[97/100], loss: 0.021170\n",
            "Epoch[98/100], loss: 0.021170\n",
            "Epoch[99/100], loss: 0.021170\n",
            "Epoch[100/100], loss: 0.021170\n",
            "Valores Gradiente:\n",
            " w: (model.w) | perda: (loss)\n"
          ]
        },
        {
          "output_type": "error",
          "ename": "ValueError",
          "evalue": "shapes (50,2) and (1,2) not aligned: 2 (dim 1) != 1 (dim 0)",
          "traceback": [
            "\u001b[0;31m---------------------------------------------------------------------------\u001b[0m",
            "\u001b[0;31mValueError\u001b[0m                                Traceback (most recent call last)",
            "\u001b[0;32m<ipython-input-23-e5395fd02c64>\u001b[0m in \u001b[0;36m<cell line: 0>\u001b[0;34m()\u001b[0m\n\u001b[1;32m     32\u001b[0m \u001b[0mmodel\u001b[0m\u001b[0;34m.\u001b[0m\u001b[0mw\u001b[0m \u001b[0;34m=\u001b[0m \u001b[0mw_opt\u001b[0m\u001b[0;34m\u001b[0m\u001b[0;34m\u001b[0m\u001b[0m\n\u001b[1;32m     33\u001b[0m \u001b[0;31m#foward - predict\u001b[0m\u001b[0;34m\u001b[0m\u001b[0;34m\u001b[0m\u001b[0m\n\u001b[0;32m---> 34\u001b[0;31m \u001b[0my_pred\u001b[0m \u001b[0;34m=\u001b[0m \u001b[0mmodel\u001b[0m\u001b[0;34m.\u001b[0m\u001b[0mforward\u001b[0m\u001b[0;34m(\u001b[0m\u001b[0mx_train_bias\u001b[0m\u001b[0;34m)\u001b[0m\u001b[0;34m\u001b[0m\u001b[0;34m\u001b[0m\u001b[0m\n\u001b[0m\u001b[1;32m     35\u001b[0m \u001b[0;34m\u001b[0m\u001b[0m\n\u001b[1;32m     36\u001b[0m \u001b[0;31m# loss calculo de funcao perda\u001b[0m\u001b[0;34m\u001b[0m\u001b[0;34m\u001b[0m\u001b[0m\n",
            "\u001b[0;32m<ipython-input-7-6103101bfadf>\u001b[0m in \u001b[0;36mforward\u001b[0;34m(self, x_bias)\u001b[0m\n\u001b[1;32m      7\u001b[0m \u001b[0;34m\u001b[0m\u001b[0m\n\u001b[1;32m      8\u001b[0m     \u001b[0;32mdef\u001b[0m \u001b[0mforward\u001b[0m\u001b[0;34m(\u001b[0m\u001b[0mself\u001b[0m\u001b[0;34m,\u001b[0m \u001b[0mx_bias\u001b[0m\u001b[0;34m)\u001b[0m\u001b[0;34m:\u001b[0m\u001b[0;34m\u001b[0m\u001b[0;34m\u001b[0m\u001b[0m\n\u001b[0;32m----> 9\u001b[0;31m         \u001b[0;32mreturn\u001b[0m \u001b[0mx_bias\u001b[0m\u001b[0;34m.\u001b[0m\u001b[0mdot\u001b[0m\u001b[0;34m(\u001b[0m\u001b[0mself\u001b[0m\u001b[0;34m.\u001b[0m\u001b[0mw\u001b[0m\u001b[0;34m.\u001b[0m\u001b[0mT\u001b[0m\u001b[0;34m)\u001b[0m\u001b[0;34m\u001b[0m\u001b[0;34m\u001b[0m\u001b[0m\n\u001b[0m",
            "\u001b[0;31mValueError\u001b[0m: shapes (50,2) and (1,2) not aligned: 2 (dim 1) != 1 (dim 0)"
          ]
        }
      ]
    }
  ],
  "metadata": {
    "accelerator": "TPU",
    "colab": {
      "provenance": [],
      "gpuType": "V28"
    },
    "kernelspec": {
      "display_name": "Python 3.10.2 64-bit",
      "language": "python",
      "name": "python3"
    },
    "language_info": {
      "name": "python",
      "version": "3.10.2"
    },
    "vscode": {
      "interpreter": {
        "hash": "5fe3e6f0cdaab8afdc61c52912fda83f7c0a71baaea1897dd7498e2df01e69ec"
      }
    }
  },
  "nbformat": 4,
  "nbformat_minor": 0
}